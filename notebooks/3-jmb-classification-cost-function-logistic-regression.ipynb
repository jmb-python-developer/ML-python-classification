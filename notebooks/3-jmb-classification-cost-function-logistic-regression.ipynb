{
 "cells": [
  {
   "cell_type": "markdown",
   "metadata": {},
   "source": [
    "# Cost Function for Logistic Regression in Classification\n",
    "\n",
    "This notebook examines the implementation and use of the cost function for logistic regression algorithm, in the context of classification models. It does so by building on previous notebooks (1,2 and 3.)"
   ]
  },
  {
   "cell_type": "code",
   "execution_count": 17,
   "metadata": {},
   "outputs": [],
   "source": [
    "import numpy as np\n",
    "import matplotlib.pyplot as plt\n",
    "import sys\n",
    "import os\n",
    "import importlib\n",
    "\n",
    "# Custom scripts imports\n",
    "# Adding the directory to sys.path\n",
    "sys.path.insert(0, os.path.abspath('../'))\n",
    "\n",
    "# Import the modules after\n",
    "from src.visualization import visualize\n",
    "from src.models import predict_model\n",
    "\n",
    "# Now reload using the module reference, for future changes.\n",
    "importlib.reload(visualize)\n",
    "importlib.reload(predict_model)\n",
    "\n",
    "from src.visualization.visualize import plot_data\n",
    "from src.models.predict_model import sigmoid"
   ]
  },
  {
   "cell_type": "markdown",
   "metadata": {},
   "source": [
    "A simple dataset, as with previous examples, can be used for illustrative purposes:"
   ]
  },
  {
   "cell_type": "code",
   "execution_count": 18,
   "metadata": {},
   "outputs": [],
   "source": [
    "X_train = np.array([[0.5, 1.5], [1,1], [1.5, 0.5], [3, 0.5], [2, 2], [1, 2.5]])  #(m,n)\n",
    "y_train = np.array([0, 0, 0, 1, 1, 1])                                           #(m,)"
   ]
  },
  {
   "cell_type": "markdown",
   "metadata": {},
   "source": [
    "This data is then plotted using red crosses as for y=1, and blue dots for y=0; or targets with said values:"
   ]
  },
  {
   "cell_type": "code",
   "execution_count": 19,
   "metadata": {},
   "outputs": [
    {
     "data": {
      "image/png": "[encoded data removed]",
      "text/plain": [
       "<Figure size 400x400 with 1 Axes>"
      ]
     },
     "metadata": {},
     "output_type": "display_data"
    }
   ],
   "source": [
    "fig, ax = plt.subplots(1,1, figsize=(4,4))\n",
    "plot_data(X_train, y_train, ax)\n",
    "# Set axes to extend from 0 to 4 in the plot\n",
    "ax.axis = ([0,4,0,3.5])\n",
    "ax.set_ylabel('$x_1$', fontsize=12)\n",
    "ax.set_xlabel('$x_0$', fontsize=12)\n",
    "plt.show()"
   ]
  },
  {
   "cell_type": "markdown",
   "metadata": {},
   "source": [
    "## Cost Function\n",
    "\n",
    "Before the **Loss Function** was defined, which applies to a single example from a training dataset. However, just as with Linear Regression, the combination of all the \"losses\" pero example is what the cost function focuses on:\n",
    "\n",
    "$$ J(\\mathbf{w},b) = \\frac{1}{m} \\sum_{i=0}^{m-1} \\left[ loss(f_{\\mathbf{w},b}(\\mathbf{x}^{(i)}), y^{(i)}) \\right] \\tag{1}$$\n",
    "\n",
    "where\n",
    "* $loss(f_{\\mathbf{w},b}(\\mathbf{x}^{(i)}), y^{(i)})$ is the cost for a single data point, which is:\n",
    "\n",
    "    $$loss(f_{\\mathbf{w},b}(\\mathbf{x}^{(i)}), y^{(i)}) = -y^{(i)} \\log\\left(f_{\\mathbf{w},b}\\left( \\mathbf{x}^{(i)} \\right) \\right) - \\left( 1 - y^{(i)}\\right) \\log \\left( 1 - f_{\\mathbf{w},b}\\left( \\mathbf{x}^{(i)} \\right) \\right) \\tag{2}$$\n",
    "    \n",
    "*  where m is the number of training examples in the data set and:\n",
    "$$\n",
    "\\begin{align}\n",
    "  f_{\\mathbf{w},b}(\\mathbf{x^{(i)}}) &= g(z^{(i)})\\tag{3} \\\\\n",
    "  z^{(i)} &= \\mathbf{w} \\cdot \\mathbf{x}^{(i)}+ b\\tag{4} \\\\\n",
    "  g(z^{(i)}) &= \\frac{1}{1+e^{-z^{(i)}}}\\tag{5} \n",
    "\\end{align}\n",
    "$$\n",
    "\n"
   ]
  },
  {
   "cell_type": "markdown",
   "metadata": {},
   "source": [
    "The algorithm for the cost function loops over all the examples and accumulates the total cost:"
   ]
  },
  {
   "cell_type": "code",
   "execution_count": 20,
   "metadata": {},
   "outputs": [],
   "source": [
    "def compute_cost_logistic_regression(X, y, w, b):\n",
    "    \"\"\"\n",
    "    Computes cost\n",
    "\n",
    "    Args:\n",
    "      X (ndarray (m,n)): Data, m examples with n features\n",
    "      y (ndarray (m,)) : target values\n",
    "      w (ndarray (n,)) : model parameters  \n",
    "      b (scalar)       : model parameter\n",
    "      \n",
    "    Returns:\n",
    "      cost (scalar): cost\n",
    "    \"\"\"\n",
    "    m = X.shape[0]\n",
    "    cost = 0.0\n",
    "    for i in range(m):\n",
    "        # z(i) component is the multilinear prediction for a given row and w chosen, plus the bias\n",
    "        z_i = np.dot(X[i], w) + b\n",
    "        # f_wb_i is plugging this then into the sigmoid\n",
    "        f_wb_i = sigmoid(z_i)\n",
    "        # The loss is applied as the loss function per example in the dataset\n",
    "        cost += -y[i]*np.log(f_wb_i) - (1-y[i])*np.log(1-f_wb_i)\n",
    "    cost /= m\n",
    "    return cost\n"
   ]
  },
  {
   "cell_type": "markdown",
   "metadata": {},
   "source": [
    "This implementation can be test by using some arbitrarily chosen parameters (w and bias):"
   ]
  },
  {
   "cell_type": "code",
   "execution_count": 21,
   "metadata": {},
   "outputs": [
    {
     "name": "stdout",
     "output_type": "stream",
     "text": [
      "0.36686678640551745\n"
     ]
    }
   ],
   "source": [
    "w_1 = np.array([1, 1])\n",
    "b_1 = -3\n",
    "print(compute_cost_logistic_regression(X_train, y_train, w_1, b_1))"
   ]
  },
  {
   "cell_type": "markdown",
   "metadata": {},
   "source": [
    "The cost calculated might not be optimal, yet, as iterations are needed to refine the parameters, but it is not as high. \n",
    "\n",
    "We can try with different parameters though, to observe how it impacts the decision boundary and fits the model, if the cost is even higher.\n",
    "\n",
    "Fo example: `b = -4, w = np.array([1,1])`"
   ]
  },
  {
   "cell_type": "code",
   "execution_count": 22,
   "metadata": {},
   "outputs": [
    {
     "data": {
      "image/png": "[encoded data removed]",
      "text/plain": [
       "<Figure size 400x400 with 1 Axes>"
      ]
     },
     "metadata": {},
     "output_type": "display_data"
    }
   ],
   "source": [
    "# Set of values in 0-6 range\n",
    "x0 = np.arange(0,6)\n",
    "# Plot the previous decision boundaries and the one with a bias of 4\n",
    "x1 = 3 - x0\n",
    "x1_second = 4 - x0\n",
    "\n",
    "fig,ax = plt.subplots(1, 1, figsize=(4,4))\n",
    "# Plot the decision boundary\n",
    "ax.plot(x0,x1, c=\"#0096ff\", label=\"$b$=-3\")\n",
    "ax.plot(x0,x1_second, c=\"#FF40FF\", label=\"$b$=-4\")\n",
    "ax.axis([0, 4, 0, 4])\n",
    "\n",
    "# Plot the original data\n",
    "plot_data(X_train,y_train,ax)\n",
    "ax.axis([0, 4, 0, 4])\n",
    "ax.set_ylabel('$x_1$', fontsize=12)\n",
    "ax.set_xlabel('$x_0$', fontsize=12)\n",
    "plt.legend(loc=\"upper right\")\n",
    "plt.title(\"Decision Boundary\")\n",
    "plt.show()"
   ]
  },
  {
   "cell_type": "markdown",
   "metadata": {},
   "source": [
    "Above plot shows how, for a bias of -4, the decision boundary for its related model misses the mark and might classify input values incorrectly. We can finally obtain the cost for the dataset using this model:"
   ]
  },
  {
   "cell_type": "code",
   "execution_count": 23,
   "metadata": {},
   "outputs": [
    {
     "name": "stdout",
     "output_type": "stream",
     "text": [
      "Cost for model with b = -3:  0.36686678640551745\n",
      "Cost for model with b = -3:  0.5036808636748461\n"
     ]
    }
   ],
   "source": [
    "# 'w' params for first model\n",
    "w_array1 = np.array([1,1])\n",
    "# bias param for first model\n",
    "b_1 = -3\n",
    "\n",
    "# 'w' params for second model\n",
    "w_array2 = np.array([1,1])\n",
    "# bias param for second model\n",
    "b_2 = -4\n",
    "# Run cost using both models, print results\n",
    "print(\"Cost for model with b = -3: \", compute_cost_logistic_regression(X_train, y_train, w_array1, b_1))\n",
    "print(\"Cost for model with b = -3: \", compute_cost_logistic_regression(X_train, y_train, w_array2, b_2))"
   ]
  },
  {
   "cell_type": "markdown",
   "metadata": {},
   "source": [
    "Clearly, the second model uses parameters that produce a higher cost, which matches the plot from above."
   ]
  },
  {
   "cell_type": "markdown",
   "metadata": {},
   "source": []
  }
 ],
 "metadata": {
  "kernelspec": {
   "display_name": "Python 3 (ipykernel)",
   "language": "python",
   "name": "python3"
  },
  "language_info": {
   "codemirror_mode": {
    "name": "ipython",
    "version": 3
   },
   "file_extension": ".py",
   "mimetype": "text/x-python",
   "name": "python",
   "nbconvert_exporter": "python",
   "pygments_lexer": "ipython3",
   "version": "3.10.13"
  }
 },
 "nbformat": 4,
 "nbformat_minor": 2
}
