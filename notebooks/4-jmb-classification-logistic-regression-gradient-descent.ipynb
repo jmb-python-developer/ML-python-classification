{
 "cells": [
  {
   "cell_type": "markdown",
   "metadata": {},
   "source": [
    "# Gradient Descent for Logistic Regression\n",
    "\n",
    "Just as with Linear Regression, the **Gradient Descent** algorithm can be used to find parameters 'w' and 'b' as to minimize the value of the cost function `J(w,b)`."
   ]
  },
  {
   "cell_type": "code",
   "execution_count": 29,
   "metadata": {},
   "outputs": [],
   "source": [
    "import math, copy\n",
    "import numpy as np\n",
    "import matplotlib.pyplot as plt\n",
    "import sys\n",
    "import os\n",
    "import importlib\n",
    "\n",
    "# Custom scripts imports\n",
    "# Adding the directory to sys.path\n",
    "sys.path.insert(0, os.path.abspath('../'))\n",
    "\n",
    "# Import the modules after\n",
    "from src.visualization import visualize\n",
    "from src.models import predict_model\n",
    "\n",
    "# Now reload using the module reference, for future changes.\n",
    "importlib.reload(visualize)\n",
    "importlib.reload(predict_model)\n",
    "\n",
    "from src.visualization.visualize import plot_data, plt_prob\n",
    "from src.models.predict_model import sigmoid\n",
    "from src.models.train_model import compute_cost_logistic_sq_err"
   ]
  },
  {
   "cell_type": "markdown",
   "metadata": {},
   "source": [
    "Just as with the decision boundary notebook, we can start by creating a trivial yet exemplifying datasets, both for the training samples matrix (X) and target values vector (y)"
   ]
  },
  {
   "cell_type": "code",
   "execution_count": 5,
   "metadata": {},
   "outputs": [],
   "source": [
    "# Create training set with potential tumour characteristics (ie, size, etc)\n",
    "X_train = np.array([[0.5, 1.5], [1,1], [1.5, 0.5], [3, 0.5], [2, 2], [1, 2.5]])\n",
    "# Create the target values vector with the classification for tumours matching the training set\n",
    "y_train = np.array([0, 0, 0, 1, 1, 1])"
   ]
  },
  {
   "cell_type": "markdown",
   "metadata": {},
   "source": [
    "The plot for the dataset and its target is as follows:"
   ]
  },
  {
   "cell_type": "code",
   "execution_count": 6,
   "metadata": {},
   "outputs": [
    {
     "data": {
      "image/png": "[encoded data removed]",
      "text/plain": [
       "<Figure size 400x400 with 1 Axes>"
      ]
     },
     "metadata": {},
     "output_type": "display_data"
    }
   ],
   "source": [
    "fig,ax = plt.subplots(1,1,figsize=(4,4))\n",
    "plot_data(X_train, y_train, ax)\n",
    "\n",
    "ax.axis([0, 4, 0, 3.5])\n",
    "ax.set_ylabel('$x_1$', fontsize=12)\n",
    "ax.set_xlabel('$x_0$', fontsize=12)\n",
    "plt.show()"
   ]
  },
  {
   "cell_type": "markdown",
   "metadata": {},
   "source": [
    "## Logistic Gradient Descent\n",
    "\n",
    "Gradient Descent utilises the gradient calculation as follows:\n",
    "\n",
    "$$\\begin{align*}\n",
    "&\\text{repeat until convergence:} \\; \\lbrace \\\\\n",
    "&  \\; \\; \\;w_j = w_j -  \\alpha \\frac{\\partial J(\\mathbf{w},b)}{\\partial w_j} \\tag{1}  \\; & \\text{for j := 0..n-1} \\\\ \n",
    "&  \\; \\; \\;  \\; \\;b = b -  \\alpha \\frac{\\partial J(\\mathbf{w},b)}{\\partial b} \\\\\n",
    "&\\rbrace\n",
    "\\end{align*}$$\n",
    "\n",
    "Where each iteration performs simultaneous updates on $w_j$ for all $j$, where\n",
    "$$\\begin{align*}\n",
    "\\frac{\\partial J(\\mathbf{w},b)}{\\partial w_j}  &= \\frac{1}{m} \\sum\\limits_{i = 0}^{m-1} (f_{\\mathbf{w},b}(\\mathbf{x}^{(i)}) - y^{(i)})x_{j}^{(i)} \\tag{2} \\\\\n",
    "\\frac{\\partial J(\\mathbf{w},b)}{\\partial b}  &= \\frac{1}{m} \\sum\\limits_{i = 0}^{m-1} (f_{\\mathbf{w},b}(\\mathbf{x}^{(i)}) - y^{(i)}) \\tag{3} \n",
    "\\end{align*}$$\n",
    "\n",
    "* m is the number of training examples in the data set      \n",
    "* $f_{\\mathbf{w},b}(x^{(i)})$ is the model's prediction, while $y^{(i)}$ is the target\n",
    "* For a logistic regression model  \n",
    "    $z = \\mathbf{w} \\cdot \\mathbf{x} + b$  \n",
    "    $f_{\\mathbf{w},b}(x) = g(z)$  \n",
    "    where $g(z)$ is the sigmoid function:  \n",
    "    $g(z) = \\frac{1}{1+e^{-z}}$   \n",
    "    "
   ]
  },
  {
   "cell_type": "markdown",
   "metadata": {},
   "source": [
    "The implementation of the algorithm requires two code functions:\n",
    "\n",
    "- **Compute current gradient**, which is the calculation of the 'current' gradient, related to equations (2) and (3) above.\n",
    "- **Gradient Descent**, the algorithm per se, which uses the above function, and relates to (1) in above expresssions"
   ]
  },
  {
   "cell_type": "code",
   "execution_count": 14,
   "metadata": {},
   "outputs": [],
   "source": [
    "def compute_gradient_logistic_regression(X, y, w, b):\n",
    "    \"\"\"\n",
    "    Computes the gradient for logistic regression \n",
    " \n",
    "    Args:\n",
    "      X (ndarray (m,n): Data [Matrix - 2D numpy array], m examples with n features\n",
    "      y (ndarray (m,)): target values [Vector - 1D numpy array]\n",
    "      w (ndarray (n,)): model parameters  \n",
    "      b (scalar)      : model parameter\n",
    "    Returns\n",
    "      dj_dw (ndarray (n,)): The gradient of the cost w.r.t. the parameters w. \n",
    "      dj_db (scalar)      : The gradient of the cost w.r.t. the parameter b. \n",
    "    \"\"\"\n",
    "    m,n = X.shape\n",
    "    dj_dw = np.zeros((n,))\n",
    "    dj_db = 0.\n",
    "    for i in range(m):\n",
    "        # The derivative, in terms of f_wb_i, is the sigmoid applied to the linear model, as seen in theory.\n",
    "        f_wb_i = sigmoid(np.dot(X[i],w) + b)\n",
    "        error_i = f_wb_i - y[i]\n",
    "        # Do the derivative per feature, at the column level (j index of n in matrix indices)\n",
    "        for j in range(n):\n",
    "          dj_dw[j] += error_i * X[i,j]\n",
    "        dj_db += error_i\n",
    "    dj_dw /= m\n",
    "    dj_db /= m\n",
    "    return dj_db, dj_dw"
   ]
  },
  {
   "cell_type": "markdown",
   "metadata": {},
   "source": [
    "We can quickly check the implementation above with the following data:"
   ]
  },
  {
   "cell_type": "code",
   "execution_count": 15,
   "metadata": {},
   "outputs": [
    {
     "name": "stdout",
     "output_type": "stream",
     "text": [
      "dj_db: 0.49861806546328574\n",
      "dj_dw: [0.498333393278696, 0.49883942983996693]\n"
     ]
    }
   ],
   "source": [
    "X_tmp = np.array([[0.5, 1.5], [1,1], [1.5, 0.5], [3, 0.5], [2, 2], [1, 2.5]])\n",
    "y_tmp = np.array([0, 0, 0, 1, 1, 1])\n",
    "w_tmp = np.array([2.,3.])\n",
    "b_tmp = 1.\n",
    "dj_db_tmp, dj_dw_tmp = compute_gradient_logistic_regression(X_tmp, y_tmp, w_tmp, b_tmp)\n",
    "print(f\"dj_db: {dj_db_tmp}\" )\n",
    "print(f\"dj_dw: {dj_dw_tmp.tolist()}\" )"
   ]
  },
  {
   "cell_type": "markdown",
   "metadata": {},
   "source": [
    "Using above method to compute the gradients per parameter, the following is an implementation for the gradient descent, which implements the formula labeled as (1) in above cells:"
   ]
  },
  {
   "cell_type": "code",
   "execution_count": 20,
   "metadata": {},
   "outputs": [],
   "source": [
    "def gradient_descent(X, y, w_in, b_in, alpha, num_iters):\n",
    "    \"\"\"\n",
    "    Performs batch gradient descent\n",
    "    \n",
    "    Args:\n",
    "      X (ndarray (m,n)   : Data, m examples with n features\n",
    "      y (ndarray (m,))   : target values\n",
    "      w_in (ndarray (n,)): Initial values of model parameters  \n",
    "      b_in (scalar)      : Initial values of model parameter\n",
    "      alpha (float)      : Learning rate\n",
    "      num_iters (scalar) : number of iterations to run gradient descent\n",
    "      \n",
    "    Returns:\n",
    "      w (ndarray (n,))   : Updated values of parameters\n",
    "      b (scalar)         : Updated value of parameter \n",
    "    \"\"\"\n",
    "    # Array to store cost at iterations, to display as the algorithm run\n",
    "    J_history = []\n",
    "    w = copy.deepcopy(w_in)  #avoid modifying global w within function\n",
    "    b = b_in\n",
    "    # Run the algorithm as per the number of iterations passed\n",
    "    for i in range(num_iters):\n",
    "      # Calculate gradients per current iteration\n",
    "      dj_db, dj_dw = compute_gradient_logistic_regression(X, y, w, b)\n",
    "      # Adjust values for w and b\n",
    "      w = w - alpha * dj_dw\n",
    "      b = b - alpha * dj_db\n",
    "\n",
    "      # Save cost J at each iteration\n",
    "      if i<100000:      # prevent resource exhaustion \n",
    "        J_history.append( compute_gradient_logistic_regression(X, y, w, b) )\n",
    "\n",
    "      # Print cost every at intervals 10 times or as many iterations if < 10\n",
    "      if i% math.ceil(num_iters / 10) == 0:\n",
    "        print(f\"Iteration {i:4d}: Cost {J_history[-1]}   \")\n",
    "    #return final w,b and J history for plotting\n",
    "    return w, b, J_history     "
   ]
  },
  {
   "cell_type": "markdown",
   "metadata": {},
   "source": [
    "The following runs the gradient descent algorithm using above functions:"
   ]
  },
  {
   "cell_type": "code",
   "execution_count": 21,
   "metadata": {},
   "outputs": [
    {
     "name": "stdout",
     "output_type": "stream",
     "text": [
      "Iteration    0: Cost (0.014924742767851254, array([-0.22449108, -0.14601523]))   \n",
      "Iteration 1000: Cost (0.03292263785587346, array([-0.01154724, -0.01179442]))   \n",
      "Iteration 2000: Cost (0.017933890941894477, array([-0.00639134, -0.0064637 ]))   \n",
      "Iteration 3000: Cost (0.01219290340280725, array([-0.00437133, -0.00440444]))   \n",
      "Iteration 4000: Cost (0.009205288270528337, array([-0.00331049, -0.00332914]))   \n",
      "Iteration 5000: Cost (0.007382936755160792, array([-0.00266019, -0.00267204]))   \n",
      "Iteration 6000: Cost (0.006158304660621156, array([-0.00222181, -0.00222997]))   \n",
      "Iteration 7000: Cost (0.005279886586599484, array([-0.00190669, -0.00191261]))   \n",
      "Iteration 8000: Cost (0.004619558128642703, array([-0.00166943, -0.00167391]))   \n",
      "Iteration 9000: Cost (0.0041053232770014575, array([-0.00148444, -0.00148794]))   \n",
      "\n",
      "updated parameters: w:[5.28123029 5.07815608], b:-14.222409982019837\n"
     ]
    }
   ],
   "source": [
    "w_tmp  = np.zeros_like(X_train[0])\n",
    "b_tmp  = 0.\n",
    "alph = 0.1\n",
    "iters = 10000\n",
    "\n",
    "w_out, b_out, _ = gradient_descent(X_train, y_train, w_tmp, b_tmp, alph, iters) \n",
    "print(f\"\\nupdated parameters: w:{w_out}, b:{b_out}\")"
   ]
  },
  {
   "cell_type": "markdown",
   "metadata": {},
   "source": [
    "The plot for the results of the gradient descent run is as follows:"
   ]
  },
  {
   "cell_type": "code",
   "execution_count": 31,
   "metadata": {},
   "outputs": [
    {
     "data": {
      "image/png": "[encoded data removed]",
      "text/plain": [
       "<Figure size 500x400 with 2 Axes>"
      ]
     },
     "metadata": {},
     "output_type": "display_data"
    }
   ],
   "source": [
    "fig,ax = plt.subplots(1,1,figsize=(5,4))\n",
    "# plot the probability \n",
    "plt_prob(ax, w_out, b_out)\n",
    "\n",
    "# Plot the original data\n",
    "ax.set_ylabel(r'$x_1$')\n",
    "ax.set_xlabel(r'$x_0$')   \n",
    "ax.axis([0, 4, 0, 3.5])\n",
    "plot_data(X_train,y_train,ax)\n",
    "\n",
    "# Plot the decision boundary\n",
    "x0 = -b_out/w_out[0]\n",
    "x1 = -b_out/w_out[1]\n",
    "ax.plot([0,x0],[x1,0], c=\"#0096ff\", lw=1)\n",
    "plt.show()"
   ]
  },
  {
   "cell_type": "markdown",
   "metadata": {},
   "source": [
    "We can draw the following conclusions from the plot above:\n",
    "- The shading is the probability of a positive match or y = 1\n",
    "- The decision bounday is the line at x0, x1 where the probability is 0.5 (P(y=1|y=0: 0,5))"
   ]
  }
 ],
 "metadata": {
  "kernelspec": {
   "display_name": "Python 3 (ipykernel)",
   "language": "python",
   "name": "python3"
  },
  "language_info": {
   "codemirror_mode": {
    "name": "ipython",
    "version": 3
   },
   "file_extension": ".py",
   "mimetype": "text/x-python",
   "name": "python",
   "nbconvert_exporter": "python",
   "pygments_lexer": "ipython3",
   "version": "3.10.13"
  }
 },
 "nbformat": 4,
 "nbformat_minor": 2
}
